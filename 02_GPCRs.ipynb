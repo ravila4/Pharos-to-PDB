{
 "cells": [
  {
   "cell_type": "markdown",
   "metadata": {},
   "source": [
    " <img src=\"SIFTS.png\" style=\"width:500px\"> "
   ]
  },
  {
   "cell_type": "markdown",
   "metadata": {},
   "source": [
    "# Mapping Pharos Receptors to PDB with SIFTS"
   ]
  },
  {
   "cell_type": "markdown",
   "metadata": {},
   "source": [
    "Structure Integration with Function, Taxonomy and Sequence (SIFTS), provides mappings between Uniprot and  PDB, as well as annotations from IntEnz, GO, InterPro, Pfam, CATH, SCOP, PubMed, Ensembl and Homologene resources."
   ]
  },
  {
   "cell_type": "code",
   "execution_count": 16,
   "metadata": {},
   "outputs": [],
   "source": [
    "import pandas as pd"
   ]
  },
  {
   "cell_type": "markdown",
   "metadata": {},
   "source": [
    "Read Pharos data for receptor classes, containing UniProt ids for each receptor."
   ]
  },
  {
   "cell_type": "code",
   "execution_count": 17,
   "metadata": {},
   "outputs": [],
   "source": [
    "GPCRS_class_A = pd.read_csv(\"data/GPCR/class_A_rhodopsin/export-target-afd18ff786/targets.csv\", index_col=False)\n",
    "GPCRS_class_B = pd.read_csv(\"data/GPCR/class_B_secretin/export-target-b393b79a67/targets.csv\", index_col=False)\n",
    "GPCRS_class_C = pd.read_csv(\"data/GPCR/class_C/export-target-7b90d19513/targets.csv\", index_col=False)"
   ]
  },
  {
   "cell_type": "markdown",
   "metadata": {},
   "source": [
    "Read SIFTS Uniprot to PDB mappings."
   ]
  },
  {
   "cell_type": "code",
   "execution_count": 18,
   "metadata": {},
   "outputs": [],
   "source": [
    "uniprot_to_pdb = pd.read_csv(\"data/uniprot_pdb.csv\", skiprows=1)"
   ]
  },
  {
   "cell_type": "code",
   "execution_count": 19,
   "metadata": {},
   "outputs": [
    {
     "data": {
      "text/html": [
       "<div>\n",
       "<style scoped>\n",
       "    .dataframe tbody tr th:only-of-type {\n",
       "        vertical-align: middle;\n",
       "    }\n",
       "\n",
       "    .dataframe tbody tr th {\n",
       "        vertical-align: top;\n",
       "    }\n",
       "\n",
       "    .dataframe thead th {\n",
       "        text-align: right;\n",
       "    }\n",
       "</style>\n",
       "<table border=\"1\" class=\"dataframe\">\n",
       "  <thead>\n",
       "    <tr style=\"text-align: right;\">\n",
       "      <th></th>\n",
       "      <th>SP_PRIMARY</th>\n",
       "      <th>PDB</th>\n",
       "    </tr>\n",
       "  </thead>\n",
       "  <tbody>\n",
       "    <tr>\n",
       "      <th>0</th>\n",
       "      <td>A0A010</td>\n",
       "      <td>5b00;5b01;5b02;5b03;5b0i;5b0j;5b0k;5b0l;5b0m;5...</td>\n",
       "    </tr>\n",
       "    <tr>\n",
       "      <th>1</th>\n",
       "      <td>A0A011</td>\n",
       "      <td>3vk5;3vka;3vkb;3vkc;3vkd</td>\n",
       "    </tr>\n",
       "    <tr>\n",
       "      <th>2</th>\n",
       "      <td>A0A014C6J9</td>\n",
       "      <td>6br7</td>\n",
       "    </tr>\n",
       "    <tr>\n",
       "      <th>3</th>\n",
       "      <td>A0A016UNP9</td>\n",
       "      <td>2md0</td>\n",
       "    </tr>\n",
       "    <tr>\n",
       "      <th>4</th>\n",
       "      <td>A0A023GPI4</td>\n",
       "      <td>2m6j</td>\n",
       "    </tr>\n",
       "  </tbody>\n",
       "</table>\n",
       "</div>"
      ],
      "text/plain": [
       "   SP_PRIMARY                                                PDB\n",
       "0      A0A010  5b00;5b01;5b02;5b03;5b0i;5b0j;5b0k;5b0l;5b0m;5...\n",
       "1      A0A011                           3vk5;3vka;3vkb;3vkc;3vkd\n",
       "2  A0A014C6J9                                               6br7\n",
       "3  A0A016UNP9                                               2md0\n",
       "4  A0A023GPI4                                               2m6j"
      ]
     },
     "execution_count": 19,
     "metadata": {},
     "output_type": "execute_result"
    }
   ],
   "source": [
    "uniprot_to_pdb.head()"
   ]
  },
  {
   "cell_type": "markdown",
   "metadata": {},
   "source": [
    "Find the PDB ids for each receptor, if available."
   ]
  },
  {
   "cell_type": "code",
   "execution_count": 20,
   "metadata": {},
   "outputs": [],
   "source": [
    "def find_pdbs(df):\n",
    "    \"\"\" Input: Data Frame of Pharos data.\n",
    "        Output: List of PDB IDs. \"\"\"\n",
    "    IDS = []\n",
    "    for i in range(len(df)):\n",
    "        pdb_ids = None\n",
    "        uniprot_id = df.loc[:, \"Uniprot ID\"][i]\n",
    "        mapping = uniprot_to_pdb[uniprot_to_pdb.SP_PRIMARY == uniprot_id]\n",
    "        if len(mapping) != 0:\n",
    "            pdb_ids = mapping.PDB.iloc[0].split(';')\n",
    "        IDS.append(pdb_ids)\n",
    "    return IDS"
   ]
  },
  {
   "cell_type": "markdown",
   "metadata": {},
   "source": [
    "Add PDBs to Data Frame."
   ]
  },
  {
   "cell_type": "code",
   "execution_count": 21,
   "metadata": {},
   "outputs": [],
   "source": [
    "GPCRS_class_A['PDB_IDS'] = find_pdbs(GPCRS_class_A)\n",
    "GPCRS_class_B['PDB_IDS'] = find_pdbs(GPCRS_class_B)\n",
    "GPCRS_class_C['PDB_IDS'] = find_pdbs(GPCRS_class_C)"
   ]
  },
  {
   "cell_type": "markdown",
   "metadata": {},
   "source": [
    "Number of receptors in each class with at least one structure in the Protein Data Bank:"
   ]
  },
  {
   "cell_type": "code",
   "execution_count": 22,
   "metadata": {},
   "outputs": [
    {
     "name": "stdout",
     "output_type": "stream",
     "text": [
      "GPCR Class A: 57\n",
      "GPCR Class B: 11\n",
      "GPCR Class C: 9\n"
     ]
    }
   ],
   "source": [
    "print(\"GPCR Class A:\", len(GPCRS_class_A) - sum(GPCRS_class_A.PDB_IDS.isna()))\n",
    "print(\"GPCR Class B:\", len(GPCRS_class_B) - sum(GPCRS_class_B.PDB_IDS.isna()))\n",
    "print(\"GPCR Class C:\", len(GPCRS_class_C) - sum(GPCRS_class_C.PDB_IDS.isna()))"
   ]
  }
 ],
 "metadata": {
  "kernelspec": {
   "display_name": "Python 3",
   "language": "python",
   "name": "python3"
  },
  "language_info": {
   "codemirror_mode": {
    "name": "ipython",
    "version": 3
   },
   "file_extension": ".py",
   "mimetype": "text/x-python",
   "name": "python",
   "nbconvert_exporter": "python",
   "pygments_lexer": "ipython3",
   "version": "3.6.6"
  }
 },
 "nbformat": 4,
 "nbformat_minor": 2
}
